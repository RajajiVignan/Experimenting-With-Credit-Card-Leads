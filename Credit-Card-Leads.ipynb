{
 "cells": [
  {
   "cell_type": "markdown",
   "source": [
    "\n",
    "# Credit Card Sales Prediction"
   ],
   "metadata": {}
  },
  {
   "cell_type": "markdown",
   "source": [
    "The dataset is gathered from a hackathon. The dataset has 10 feature columns and a target label. This is a binary classification problem. We need to predict whether the customer is willing to purchase the credit card or not. "
   ],
   "metadata": {}
  },
  {
   "cell_type": "markdown",
   "source": [
    " The main objective of this analysis and modelling is to find the best model for predicting the lead for credit card."
   ],
   "metadata": {}
  },
  {
   "cell_type": "code",
   "execution_count": 1,
   "source": [
    "import pandas as pd\r\n",
    "import numpy as np\r\n",
    "import seaborn as sns\r\n",
    "\r\n",
    "import os\r\n",
    "import time\r\n",
    "\r\n",
    "\r\n",
    "from sklearn.model_selection import train_test_split\r\n",
    "from sklearn import metrics\r\n",
    "\r\n",
    "import warnings\r\n",
    "warnings.filterwarnings('ignore')"
   ],
   "outputs": [],
   "metadata": {}
  },
  {
   "cell_type": "code",
   "execution_count": 2,
   "source": [
    "os.getcwd()\r\n",
    "os.chdir(\"..\")"
   ],
   "outputs": [],
   "metadata": {}
  },
  {
   "cell_type": "code",
   "execution_count": 3,
   "source": [
    "import sys\r\n",
    "\r\n",
    "#full_path = os.path.expand\r\n",
    "train = pd.read_csv(\"Av_hackathon2/train.csv\")\r\n",
    "test = pd.read_csv(\"Av_hackathon2/test.csv\")"
   ],
   "outputs": [],
   "metadata": {}
  },
  {
   "cell_type": "markdown",
   "source": [
    "# Details of few important features:\n",
    "\n",
    "**ID**: a number to identify the person.\n",
    "\n",
    "**Region_code**: code name of the region for company purpose.\n",
    "\n",
    "**Channel_code**: domain-specific (X1,X2,X3,X4)\n",
    "\n",
    "**Vintage**: domain-specific ratings based on income\n",
    "\n",
    "**credit-product**: Did he took any kind of loan? (Yes or No)\n",
    "\n",
    "**Is-active**: Is he actively making transactions? (yes or no)"
   ],
   "metadata": {}
  },
  {
   "cell_type": "code",
   "execution_count": 4,
   "source": [
    "sns.countplot(train['Is_Lead'])\n",
    "train['Is_Lead'].value_counts()"
   ],
   "outputs": [
    {
     "output_type": "execute_result",
     "data": {
      "text/plain": [
       "0    187437\n",
       "1     58288\n",
       "Name: Is_Lead, dtype: int64"
      ]
     },
     "metadata": {},
     "execution_count": 4
    },
    {
     "output_type": "display_data",
     "data": {
      "text/plain": [
       "<Figure size 432x288 with 1 Axes>"
      ],
      "image/png": "[encoded data removed]"
     },
     "metadata": {
      "needs_background": "light"
     }
    }
   ],
   "metadata": {}
  },
  {
   "cell_type": "markdown",
   "source": [
    "# Preprocessing "
   ],
   "metadata": {}
  },
  {
   "cell_type": "code",
   "execution_count": 5,
   "source": [
    "train.isnull().sum()"
   ],
   "outputs": [
    {
     "output_type": "execute_result",
     "data": {
      "text/plain": [
       "ID                         0\n",
       "Gender                     0\n",
       "Age                        0\n",
       "Region_Code                0\n",
       "Occupation                 0\n",
       "Channel_Code               0\n",
       "Vintage                    0\n",
       "Credit_Product         29325\n",
       "Avg_Account_Balance        0\n",
       "Is_Active                  0\n",
       "Is_Lead                    0\n",
       "dtype: int64"
      ]
     },
     "metadata": {},
     "execution_count": 5
    }
   ],
   "metadata": {}
  },
  {
   "cell_type": "code",
   "execution_count": 6,
   "source": [
    "train['Credit_Product'] = train['Credit_Product'].replace(np.nan, 'No')"
   ],
   "outputs": [],
   "metadata": {}
  },
  {
   "cell_type": "code",
   "execution_count": 7,
   "source": [
    "#the above code also be done with the following simple code.\n",
    "\n",
    "df_uniques = pd.DataFrame([[i, len(train[i].unique())] for i in train.columns],\n",
    "                          columns=['Variable', 'Unique Values']).set_index('Variable')\n",
    "df_uniques"
   ],
   "outputs": [
    {
     "output_type": "execute_result",
     "data": {
      "text/plain": [
       "                     Unique Values\n",
       "Variable                          \n",
       "ID                          245725\n",
       "Gender                           2\n",
       "Age                             63\n",
       "Region_Code                     35\n",
       "Occupation                       4\n",
       "Channel_Code                     4\n",
       "Vintage                         66\n",
       "Credit_Product                   2\n",
       "Avg_Account_Balance         135292\n",
       "Is_Active                        2\n",
       "Is_Lead                          2"
      ],
      "text/html": [
       "<div>\n",
       "<style scoped>\n",
       "    .dataframe tbody tr th:only-of-type {\n",
       "        vertical-align: middle;\n",
       "    }\n",
       "\n",
       "    .dataframe tbody tr th {\n",
       "        vertical-align: top;\n",
       "    }\n",
       "\n",
       "    .dataframe thead th {\n",
       "        text-align: right;\n",
       "    }\n",
       "</style>\n",
       "<table border=\"1\" class=\"dataframe\">\n",
       "  <thead>\n",
       "    <tr style=\"text-align: right;\">\n",
       "      <th></th>\n",
       "      <th>Unique Values</th>\n",
       "    </tr>\n",
       "    <tr>\n",
       "      <th>Variable</th>\n",
       "      <th></th>\n",
       "    </tr>\n",
       "  </thead>\n",
       "  <tbody>\n",
       "    <tr>\n",
       "      <th>ID</th>\n",
       "      <td>245725</td>\n",
       "    </tr>\n",
       "    <tr>\n",
       "      <th>Gender</th>\n",
       "      <td>2</td>\n",
       "    </tr>\n",
       "    <tr>\n",
       "      <th>Age</th>\n",
       "      <td>63</td>\n",
       "    </tr>\n",
       "    <tr>\n",
       "      <th>Region_Code</th>\n",
       "      <td>35</td>\n",
       "    </tr>\n",
       "    <tr>\n",
       "      <th>Occupation</th>\n",
       "      <td>4</td>\n",
       "    </tr>\n",
       "    <tr>\n",
       "      <th>Channel_Code</th>\n",
       "      <td>4</td>\n",
       "    </tr>\n",
       "    <tr>\n",
       "      <th>Vintage</th>\n",
       "      <td>66</td>\n",
       "    </tr>\n",
       "    <tr>\n",
       "      <th>Credit_Product</th>\n",
       "      <td>2</td>\n",
       "    </tr>\n",
       "    <tr>\n",
       "      <th>Avg_Account_Balance</th>\n",
       "      <td>135292</td>\n",
       "    </tr>\n",
       "    <tr>\n",
       "      <th>Is_Active</th>\n",
       "      <td>2</td>\n",
       "    </tr>\n",
       "    <tr>\n",
       "      <th>Is_Lead</th>\n",
       "      <td>2</td>\n",
       "    </tr>\n",
       "  </tbody>\n",
       "</table>\n",
       "</div>"
      ]
     },
     "metadata": {},
     "execution_count": 7
    }
   ],
   "metadata": {}
  },
  {
   "cell_type": "code",
   "execution_count": 8,
   "source": [
    "binary_variables = list(df_uniques[df_uniques['Unique Values']== 2].index)\n",
    "categorical_variables = list(df_uniques[ (6>= df_uniques['Unique Values']) & (df_uniques['Unique Values'] > 2)].index)\n",
    "\n",
    "ordinal_variables = ['ID', 'Age', 'Region_Code', 'Vintage']\n",
    "#picked the ordinal variables by common sense.\n",
    "\n",
    "numeric_variables = list(set(train.columns) - set(ordinal_variables) - set(categorical_variables) - set(binary_variables))"
   ],
   "outputs": [],
   "metadata": {}
  },
  {
   "cell_type": "code",
   "execution_count": 9,
   "source": [
    "print(binary_variables,'\\n')\n",
    "print(numeric_variables,'\\n')\n",
    "print(categorical_variables)"
   ],
   "outputs": [
    {
     "output_type": "stream",
     "name": "stdout",
     "text": [
      "['Gender', 'Credit_Product', 'Is_Active', 'Is_Lead'] \n",
      "\n",
      "['Avg_Account_Balance'] \n",
      "\n",
      "['Occupation', 'Channel_Code']\n"
     ]
    }
   ],
   "metadata": {}
  },
  {
   "cell_type": "code",
   "execution_count": 10,
   "source": [
    "from sklearn.preprocessing import OneHotEncoder, LabelEncoder, LabelBinarizer, OrdinalEncoder\n",
    "\n",
    "lb, le = LabelBinarizer(), LabelEncoder()\n",
    "\n",
    "for column in ordinal_variables:\n",
    "    train[column] = le.fit_transform(train[column])\n",
    "\n",
    "for column in binary_variables:\n",
    "    train[column] = lb.fit_transform(train[column])\n",
    "    \n",
    "train = pd.get_dummies(train, columns = categorical_variables, drop_first=True)"
   ],
   "outputs": [],
   "metadata": {}
  },
  {
   "cell_type": "code",
   "execution_count": 11,
   "source": [
    "#since the avg account balance is skewed let's boxcox it.\n",
    "from scipy.stats import boxcox \n",
    "\n",
    "train['Avg_Account_Balance'] = np.log(train['Avg_Account_Balance'])"
   ],
   "outputs": [],
   "metadata": {}
  },
  {
   "cell_type": "code",
   "execution_count": 12,
   "source": [
    "train['Avg_Account_Balance'].head(20)"
   ],
   "outputs": [
    {
     "output_type": "execute_result",
     "data": {
      "text/plain": [
       "0     13.860193\n",
       "1     13.274205\n",
       "2     14.210464\n",
       "3     13.061453\n",
       "4     13.695360\n",
       "5     13.207004\n",
       "6     13.870709\n",
       "7     13.005209\n",
       "8     14.057895\n",
       "9     14.515752\n",
       "10    13.795985\n",
       "11    13.127922\n",
       "12    13.606752\n",
       "13    13.752309\n",
       "14    13.631810\n",
       "15    13.155920\n",
       "16    14.640783\n",
       "17    14.684581\n",
       "18    12.741317\n",
       "19    13.358990\n",
       "Name: Avg_Account_Balance, dtype: float64"
      ]
     },
     "metadata": {},
     "execution_count": 12
    }
   ],
   "metadata": {}
  },
  {
   "cell_type": "code",
   "execution_count": 13,
   "source": [
    "from sklearn.preprocessing import MinMaxScaler\n",
    "mm = MinMaxScaler()\n",
    "for column in [ordinal_variables + numeric_variables]:\n",
    "    train[column] = mm.fit_transform(train[column])"
   ],
   "outputs": [],
   "metadata": {}
  },
  {
   "cell_type": "code",
   "execution_count": 14,
   "source": [
    "train['Avg_Account_Balance'].head(5)"
   ],
   "outputs": [
    {
     "output_type": "execute_result",
     "data": {
      "text/plain": [
       "0    0.630865\n",
       "1    0.536510\n",
       "2    0.687265\n",
       "3    0.502253\n",
       "4    0.604324\n",
       "Name: Avg_Account_Balance, dtype: float64"
      ]
     },
     "metadata": {},
     "execution_count": 14
    }
   ],
   "metadata": {}
  },
  {
   "cell_type": "code",
   "execution_count": 15,
   "source": [
    "#fig, axes = plt.subplots(1, 2, sharex=True, figsize=(10,5))\n",
    "sns.set(rc = {'figure.figsize':(15,8)})\n",
    "\n",
    "sns.heatmap(train.corr(method =\"spearman\"), cmap=\"YlGnBu\", annot=True)"
   ],
   "outputs": [
    {
     "output_type": "execute_result",
     "data": {
      "text/plain": [
       "<AxesSubplot:>"
      ]
     },
     "metadata": {},
     "execution_count": 15
    },
    {
     "output_type": "display_data",
     "data": {
      "text/plain": [
       "<Figure size 1080x576 with 2 Axes>"
      ],
      "image/png": "[encoded data removed]"
     },
     "metadata": {}
    }
   ],
   "metadata": {}
  },
  {
   "cell_type": "markdown",
   "source": [
    "**Dropping few features which are less correlated and splitting using stratifiedshufflesplit**"
   ],
   "metadata": {}
  },
  {
   "cell_type": "code",
   "execution_count": 16,
   "source": [
    "train = train.drop('ID', axis = 1)"
   ],
   "outputs": [],
   "metadata": {}
  },
  {
   "cell_type": "code",
   "execution_count": 17,
   "source": [
    "y, X = train['Is_Lead'], train.drop(columns=['Is_Lead'])\n",
    "#we are dropping ID because the correlation is the least. The channel_code_x4 whose corr is removed earlier due to same.\n",
    "\n",
    "target = 'Is_Lead'"
   ],
   "outputs": [],
   "metadata": {}
  },
  {
   "cell_type": "code",
   "execution_count": 18,
   "source": [
    "X_train,X_test,y_train,y_test = train_test_split(X,y, test_size= 0.2, shuffle=True)"
   ],
   "outputs": [],
   "metadata": {}
  },
  {
   "cell_type": "code",
   "execution_count": 19,
   "source": [
    "from sklearn.model_selection import StratifiedShuffleSplit\n",
    "\n",
    "\n",
    "feature_cols = [x for x in train.columns if x != target]\n",
    "\n",
    "\n",
    "# Split the data into two parts with 1500 points in the test data\n",
    "# This creates a generator\n",
    "strat_shuff_split = StratifiedShuffleSplit(n_splits=1, test_size=0.2, random_state=42)\n",
    "\n",
    "# Get the index values from the generator\n",
    "train_idx, test_idx = next(strat_shuff_split.split(train[feature_cols], train[target]))\n",
    "\n",
    "# Create the data sets\n",
    "X_train = train.loc[train_idx, feature_cols]\n",
    "y_train = train.loc[train_idx, target]\n",
    "\n",
    "X_test = train.loc[test_idx, feature_cols]\n",
    "y_test = train.loc[test_idx, target]"
   ],
   "outputs": [],
   "metadata": {}
  },
  {
   "cell_type": "code",
   "execution_count": 20,
   "source": [
    "X_train"
   ],
   "outputs": [
    {
     "output_type": "execute_result",
     "data": {
      "text/plain": [
       "        Gender       Age  Region_Code   Vintage  Credit_Product  \\\n",
       "75880        1  0.258065     0.529412  0.492308               0   \n",
       "3536         1  0.112903     0.117647  0.046154               0   \n",
       "26300        0  0.580645     0.794118  0.953846               1   \n",
       "228409       1  0.338710     0.970588  0.123077               0   \n",
       "725          1  0.467742     0.117647  0.076923               0   \n",
       "...        ...       ...          ...       ...             ...   \n",
       "150898       0  0.064516     0.705882  0.107692               0   \n",
       "237369       1  0.419355     0.117647  0.338462               1   \n",
       "69566        1  0.338710     0.529412  0.738462               0   \n",
       "220533       1  0.032258     0.029412  0.092308               0   \n",
       "31356        0  0.096774     0.294118  0.169231               0   \n",
       "\n",
       "        Avg_Account_Balance  Is_Active  Occupation_Other  Occupation_Salaried  \\\n",
       "75880              0.769031          0                 1                    0   \n",
       "3536               0.620769          1                 0                    1   \n",
       "26300              0.588295          0                 0                    0   \n",
       "228409             0.728763          0                 0                    0   \n",
       "725                0.521198          1                 0                    0   \n",
       "...                     ...        ...               ...                  ...   \n",
       "150898             0.611915          0                 0                    1   \n",
       "237369             0.500889          0                 0                    0   \n",
       "69566              0.690638          0                 0                    0   \n",
       "220533             0.624606          1                 0                    1   \n",
       "31356              0.663849          0                 0                    1   \n",
       "\n",
       "        Occupation_Self_Employed  Channel_Code_X2  Channel_Code_X3  \\\n",
       "75880                          0                0                0   \n",
       "3536                           0                0                0   \n",
       "26300                          1                0                1   \n",
       "228409                         1                0                1   \n",
       "725                            1                0                0   \n",
       "...                          ...              ...              ...   \n",
       "150898                         0                0                0   \n",
       "237369                         1                1                0   \n",
       "69566                          1                0                1   \n",
       "220533                         0                0                0   \n",
       "31356                          0                0                0   \n",
       "\n",
       "        Channel_Code_X4  \n",
       "75880                 0  \n",
       "3536                  0  \n",
       "26300                 0  \n",
       "228409                0  \n",
       "725                   0  \n",
       "...                 ...  \n",
       "150898                0  \n",
       "237369                0  \n",
       "69566                 0  \n",
       "220533                0  \n",
       "31356                 0  \n",
       "\n",
       "[196580 rows x 13 columns]"
      ],
      "text/html": [
       "<div>\n",
       "<style scoped>\n",
       "    .dataframe tbody tr th:only-of-type {\n",
       "        vertical-align: middle;\n",
       "    }\n",
       "\n",
       "    .dataframe tbody tr th {\n",
       "        vertical-align: top;\n",
       "    }\n",
       "\n",
       "    .dataframe thead th {\n",
       "        text-align: right;\n",
       "    }\n",
       "</style>\n",
       "<table border=\"1\" class=\"dataframe\">\n",
       "  <thead>\n",
       "    <tr style=\"text-align: right;\">\n",
       "      <th></th>\n",
       "      <th>Gender</th>\n",
       "      <th>Age</th>\n",
       "      <th>Region_Code</th>\n",
       "      <th>Vintage</th>\n",
       "      <th>Credit_Product</th>\n",
       "      <th>Avg_Account_Balance</th>\n",
       "      <th>Is_Active</th>\n",
       "      <th>Occupation_Other</th>\n",
       "      <th>Occupation_Salaried</th>\n",
       "      <th>Occupation_Self_Employed</th>\n",
       "      <th>Channel_Code_X2</th>\n",
       "      <th>Channel_Code_X3</th>\n",
       "      <th>Channel_Code_X4</th>\n",
       "    </tr>\n",
       "  </thead>\n",
       "  <tbody>\n",
       "    <tr>\n",
       "      <th>75880</th>\n",
       "      <td>1</td>\n",
       "      <td>0.258065</td>\n",
       "      <td>0.529412</td>\n",
       "      <td>0.492308</td>\n",
       "      <td>0</td>\n",
       "      <td>0.769031</td>\n",
       "      <td>0</td>\n",
       "      <td>1</td>\n",
       "      <td>0</td>\n",
       "      <td>0</td>\n",
       "      <td>0</td>\n",
       "      <td>0</td>\n",
       "      <td>0</td>\n",
       "    </tr>\n",
       "    <tr>\n",
       "      <th>3536</th>\n",
       "      <td>1</td>\n",
       "      <td>0.112903</td>\n",
       "      <td>0.117647</td>\n",
       "      <td>0.046154</td>\n",
       "      <td>0</td>\n",
       "      <td>0.620769</td>\n",
       "      <td>1</td>\n",
       "      <td>0</td>\n",
       "      <td>1</td>\n",
       "      <td>0</td>\n",
       "      <td>0</td>\n",
       "      <td>0</td>\n",
       "      <td>0</td>\n",
       "    </tr>\n",
       "    <tr>\n",
       "      <th>26300</th>\n",
       "      <td>0</td>\n",
       "      <td>0.580645</td>\n",
       "      <td>0.794118</td>\n",
       "      <td>0.953846</td>\n",
       "      <td>1</td>\n",
       "      <td>0.588295</td>\n",
       "      <td>0</td>\n",
       "      <td>0</td>\n",
       "      <td>0</td>\n",
       "      <td>1</td>\n",
       "      <td>0</td>\n",
       "      <td>1</td>\n",
       "      <td>0</td>\n",
       "    </tr>\n",
       "    <tr>\n",
       "      <th>228409</th>\n",
       "      <td>1</td>\n",
       "      <td>0.338710</td>\n",
       "      <td>0.970588</td>\n",
       "      <td>0.123077</td>\n",
       "      <td>0</td>\n",
       "      <td>0.728763</td>\n",
       "      <td>0</td>\n",
       "      <td>0</td>\n",
       "      <td>0</td>\n",
       "      <td>1</td>\n",
       "      <td>0</td>\n",
       "      <td>1</td>\n",
       "      <td>0</td>\n",
       "    </tr>\n",
       "    <tr>\n",
       "      <th>725</th>\n",
       "      <td>1</td>\n",
       "      <td>0.467742</td>\n",
       "      <td>0.117647</td>\n",
       "      <td>0.076923</td>\n",
       "      <td>0</td>\n",
       "      <td>0.521198</td>\n",
       "      <td>1</td>\n",
       "      <td>0</td>\n",
       "      <td>0</td>\n",
       "      <td>1</td>\n",
       "      <td>0</td>\n",
       "      <td>0</td>\n",
       "      <td>0</td>\n",
       "    </tr>\n",
       "    <tr>\n",
       "      <th>...</th>\n",
       "      <td>...</td>\n",
       "      <td>...</td>\n",
       "      <td>...</td>\n",
       "      <td>...</td>\n",
       "      <td>...</td>\n",
       "      <td>...</td>\n",
       "      <td>...</td>\n",
       "      <td>...</td>\n",
       "      <td>...</td>\n",
       "      <td>...</td>\n",
       "      <td>...</td>\n",
       "      <td>...</td>\n",
       "      <td>...</td>\n",
       "    </tr>\n",
       "    <tr>\n",
       "      <th>150898</th>\n",
       "      <td>0</td>\n",
       "      <td>0.064516</td>\n",
       "      <td>0.705882</td>\n",
       "      <td>0.107692</td>\n",
       "      <td>0</td>\n",
       "      <td>0.611915</td>\n",
       "      <td>0</td>\n",
       "      <td>0</td>\n",
       "      <td>1</td>\n",
       "      <td>0</td>\n",
       "      <td>0</td>\n",
       "      <td>0</td>\n",
       "      <td>0</td>\n",
       "    </tr>\n",
       "    <tr>\n",
       "      <th>237369</th>\n",
       "      <td>1</td>\n",
       "      <td>0.419355</td>\n",
       "      <td>0.117647</td>\n",
       "      <td>0.338462</td>\n",
       "      <td>1</td>\n",
       "      <td>0.500889</td>\n",
       "      <td>0</td>\n",
       "      <td>0</td>\n",
       "      <td>0</td>\n",
       "      <td>1</td>\n",
       "      <td>1</td>\n",
       "      <td>0</td>\n",
       "      <td>0</td>\n",
       "    </tr>\n",
       "    <tr>\n",
       "      <th>69566</th>\n",
       "      <td>1</td>\n",
       "      <td>0.338710</td>\n",
       "      <td>0.529412</td>\n",
       "      <td>0.738462</td>\n",
       "      <td>0</td>\n",
       "      <td>0.690638</td>\n",
       "      <td>0</td>\n",
       "      <td>0</td>\n",
       "      <td>0</td>\n",
       "      <td>1</td>\n",
       "      <td>0</td>\n",
       "      <td>1</td>\n",
       "      <td>0</td>\n",
       "    </tr>\n",
       "    <tr>\n",
       "      <th>220533</th>\n",
       "      <td>1</td>\n",
       "      <td>0.032258</td>\n",
       "      <td>0.029412</td>\n",
       "      <td>0.092308</td>\n",
       "      <td>0</td>\n",
       "      <td>0.624606</td>\n",
       "      <td>1</td>\n",
       "      <td>0</td>\n",
       "      <td>1</td>\n",
       "      <td>0</td>\n",
       "      <td>0</td>\n",
       "      <td>0</td>\n",
       "      <td>0</td>\n",
       "    </tr>\n",
       "    <tr>\n",
       "      <th>31356</th>\n",
       "      <td>0</td>\n",
       "      <td>0.096774</td>\n",
       "      <td>0.294118</td>\n",
       "      <td>0.169231</td>\n",
       "      <td>0</td>\n",
       "      <td>0.663849</td>\n",
       "      <td>0</td>\n",
       "      <td>0</td>\n",
       "      <td>1</td>\n",
       "      <td>0</td>\n",
       "      <td>0</td>\n",
       "      <td>0</td>\n",
       "      <td>0</td>\n",
       "    </tr>\n",
       "  </tbody>\n",
       "</table>\n",
       "<p>196580 rows × 13 columns</p>\n",
       "</div>"
      ]
     },
     "metadata": {},
     "execution_count": 20
    }
   ],
   "metadata": {}
  },
  {
   "cell_type": "markdown",
   "source": [
    "# Upsampling and Downsampling"
   ],
   "metadata": {}
  },
  {
   "cell_type": "code",
   "execution_count": 21,
   "source": [
    "X1, X2, y1, y2 = train_test_split(X,y, test_size= 0.2, shuffle=True)"
   ],
   "outputs": [],
   "metadata": {}
  },
  {
   "cell_type": "code",
   "execution_count": 22,
   "source": [
    "from imblearn.pipeline import Pipeline\n",
    "from sklearn.preprocessing import StandardScaler\n",
    "from collections import Counter\n",
    "\n",
    "\n",
    "\n",
    "from imblearn.over_sampling import BorderlineSMOTE\n",
    "from imblearn.over_sampling import SMOTE\n",
    "\n",
    "from imblearn.under_sampling import RandomUnderSampler\n",
    "\n"
   ],
   "outputs": [],
   "metadata": {}
  },
  {
   "cell_type": "code",
   "execution_count": 23,
   "source": [
    "#scaler = StandardScaler()\n",
    "from imblearn.pipeline import Pipeline\n",
    "\n",
    "over = BorderlineSMOTE(sampling_strategy = 'auto')\n",
    "\n",
    "under = RandomUnderSampler(sampling_strategy= 'auto')\n",
    "\n",
    "\n",
    "steps = [(\"o\", over), (\"u\", under)]\n",
    "\n",
    "pipeline = Pipeline(steps=steps)\n",
    "\n",
    "\n",
    "# transform the dataset\n",
    "x_sm_us, y_sm_us = pipeline.fit_resample(X1, y1)\n",
    "\n",
    "print(Counter(y1))\n",
    "print(Counter(y_sm_us))"
   ],
   "outputs": [
    {
     "output_type": "stream",
     "name": "stdout",
     "text": [
      "Counter({0: 150006, 1: 46574})\n",
      "Counter({0: 150006, 1: 150006})\n"
     ]
    }
   ],
   "metadata": {}
  },
  {
   "cell_type": "code",
   "execution_count": 24,
   "source": [
    "X_train_new, X_test_new, y_train_new, y_test_new = train_test_split(x_sm_us,y_sm_us, test_size= 0.2, random_state=143)"
   ],
   "outputs": [],
   "metadata": {}
  },
  {
   "cell_type": "code",
   "execution_count": 25,
   "source": [
    "from imblearn.combine import SMOTETomek\n",
    "\n",
    "smt = SMOTE(sampling_strategy='auto', k_neighbors=7)\n",
    "X_smt, y_smt = smt.fit_resample(X_train, y_train)\n",
    "\n",
    "print(Counter(y_train))\n",
    "print(Counter(y_smt))"
   ],
   "outputs": [
    {
     "output_type": "stream",
     "name": "stdout",
     "text": [
      "Counter({0: 149950, 1: 46630})\n",
      "Counter({0: 149950, 1: 149950})\n"
     ]
    }
   ],
   "metadata": {}
  },
  {
   "cell_type": "code",
   "execution_count": 26,
   "source": [
    "#checked with n_estimators with different numbers from 15 to 400, not much significance.\r\n",
    "#X_test"
   ],
   "outputs": [],
   "metadata": {}
  },
  {
   "cell_type": "markdown",
   "source": [
    "# ML Models to the Rescue"
   ],
   "metadata": {}
  },
  {
   "cell_type": "code",
   "execution_count": 27,
   "source": [
    "from sklearn.model_selection import GridSearchCV, cross_val_score, RandomizedSearchCV\r\n",
    "\r\n",
    "\r\n",
    "from sklearn.linear_model import LogisticRegression\r\n",
    "\r\n",
    "from xgboost import XGBClassifier\r\n",
    "\r\n",
    "from sklearn.ensemble import RandomForestClassifier\r\n",
    "\r\n",
    "from sklearn.svm import SVC\r\n",
    "from sklearn.kernel_approximation import Nystroem\r\n",
    "from sklearn.linear_model import SGDClassifier\r\n",
    "\r\n",
    "from sklearn.preprocessing import PolynomialFeatures\r\n",
    "from sklearn.model_selection import RepeatedStratifiedKFold\r\n",
    "from sklearn.neighbors import KNeighborsClassifier\r\n",
    "\r\n",
    "from sklearn.pipeline import Pipeline"
   ],
   "outputs": [],
   "metadata": {}
  },
  {
   "cell_type": "code",
   "execution_count": 28,
   "source": [
    "#basic models first."
   ],
   "outputs": [],
   "metadata": {}
  },
  {
   "cell_type": "code",
   "execution_count": 29,
   "source": [
    "#logistic regresssion\r\n",
    "#trans = PolynomialFeatures(degree=3)\r\n",
    "model = XGBClassifier()\r\n",
    "#pipe = Pipeline(steps=[('t', trans), ('m', model)])\r\n",
    "\r\n",
    "model.fit(X_train_new,y_train_new)\r\n",
    "y_pred = model.predict(X_test_new)"
   ],
   "outputs": [
    {
     "output_type": "stream",
     "name": "stdout",
     "text": [
      "[15:47:34] WARNING: C:/Users/Administrator/workspace/xgboost-win64_release_1.4.0/src/learner.cc:1095: Starting in XGBoost 1.3.0, the default evaluation metric used with the objective 'binary:logistic' was changed from 'error' to 'logloss'. Explicitly set eval_metric if you'd like to restore the old behavior.\n"
     ]
    }
   ],
   "metadata": {}
  },
  {
   "cell_type": "code",
   "execution_count": 30,
   "source": [
    "print(x_sm_us.shape)\r\n",
    "print(X_test.shape)"
   ],
   "outputs": [
    {
     "output_type": "stream",
     "name": "stdout",
     "text": [
      "(300012, 13)\n",
      "(49145, 13)\n"
     ]
    }
   ],
   "metadata": {}
  },
  {
   "cell_type": "code",
   "execution_count": 31,
   "source": [
    "print(metrics.confusion_matrix(y_test_new, y_pred))\r\n",
    "\r\n",
    "print(metrics.classification_report(y_test_new,y_pred))"
   ],
   "outputs": [
    {
     "output_type": "stream",
     "name": "stdout",
     "text": [
      "[[27617  2508]\n",
      " [ 6289 23589]]\n",
      "              precision    recall  f1-score   support\n",
      "\n",
      "           0       0.81      0.92      0.86     30125\n",
      "           1       0.90      0.79      0.84     29878\n",
      "\n",
      "    accuracy                           0.85     60003\n",
      "   macro avg       0.86      0.85      0.85     60003\n",
      "weighted avg       0.86      0.85      0.85     60003\n",
      "\n"
     ]
    }
   ],
   "metadata": {}
  },
  {
   "cell_type": "code",
   "execution_count": 32,
   "source": [
    "metrics.roc_auc_score(y_test_new,y_pred)"
   ],
   "outputs": [
    {
     "output_type": "execute_result",
     "data": {
      "text/plain": [
       "0.8531287823594652"
      ]
     },
     "metadata": {},
     "execution_count": 32
    }
   ],
   "metadata": {}
  },
  {
   "cell_type": "code",
   "execution_count": 33,
   "source": [
    "y_test_new"
   ],
   "outputs": [
    {
     "output_type": "execute_result",
     "data": {
      "text/plain": [
       "153043    1\n",
       "129058    0\n",
       "35496     0\n",
       "82080     0\n",
       "86673     0\n",
       "         ..\n",
       "219838    1\n",
       "248450    1\n",
       "115729    0\n",
       "186729    1\n",
       "126446    0\n",
       "Name: Is_Lead, Length: 60003, dtype: int32"
      ]
     },
     "metadata": {},
     "execution_count": 33
    }
   ],
   "metadata": {}
  },
  {
   "cell_type": "code",
   "execution_count": 34,
   "source": [
    "#X2 and y2 now. \r\n",
    "\r\n",
    "y_pred2 = model.predict(X2)"
   ],
   "outputs": [],
   "metadata": {}
  },
  {
   "cell_type": "code",
   "execution_count": 35,
   "source": [
    "print(metrics.classification_report(y2,y_pred2))"
   ],
   "outputs": [
    {
     "output_type": "stream",
     "name": "stdout",
     "text": [
      "              precision    recall  f1-score   support\n",
      "\n",
      "           0       0.82      0.92      0.87     37431\n",
      "           1       0.57      0.36      0.44     11714\n",
      "\n",
      "    accuracy                           0.78     49145\n",
      "   macro avg       0.70      0.64      0.65     49145\n",
      "weighted avg       0.76      0.78      0.77     49145\n",
      "\n"
     ]
    }
   ],
   "metadata": {}
  },
  {
   "cell_type": "code",
   "execution_count": 36,
   "source": [
    "trans = PolynomialFeatures(degree=3)\r\n",
    "model = KNeighborsClassifier()\r\n",
    "pipeline = Pipeline(steps=[('t', trans), ('m', model)])"
   ],
   "outputs": [],
   "metadata": {}
  },
  {
   "cell_type": "code",
   "execution_count": 37,
   "source": [
    "#cv = RepeatedStratifiedKFold(n_splits=10, n_repeats=3, random_state=1)\r\n",
    "\r\n",
    "#n_scores = cross_val_score(pipeline, X, y, scoring='accuracy', cv=cv, n_jobs=-1, error_score='raise')\r\n",
    "\r\n",
    "pipeline.fit(X_train,y_train)"
   ],
   "outputs": [
    {
     "output_type": "execute_result",
     "data": {
      "text/plain": [
       "Pipeline(steps=[('t', PolynomialFeatures(degree=3)),\n",
       "                ('m', KNeighborsClassifier())])"
      ]
     },
     "metadata": {},
     "execution_count": 37
    }
   ],
   "metadata": {}
  },
  {
   "cell_type": "markdown",
   "source": [
    "# 1. XGBoost"
   ],
   "metadata": {}
  },
  {
   "cell_type": "markdown",
   "source": [
    "**Using xgb directly on x-train and y-train now. then will apply on training data that we got from sampling to xgb2.**"
   ],
   "metadata": {}
  },
  {
   "cell_type": "code",
   "execution_count": 38,
   "source": [
    "xgb = XGBClassifier(max_depth = 9, learning_rate = 0.1)\r\n",
    "\r\n",
    "xgb.fit(X_train, y_train)"
   ],
   "outputs": [
    {
     "output_type": "stream",
     "name": "stdout",
     "text": [
      "[15:47:53] WARNING: C:/Users/Administrator/workspace/xgboost-win64_release_1.4.0/src/learner.cc:1095: Starting in XGBoost 1.3.0, the default evaluation metric used with the objective 'binary:logistic' was changed from 'error' to 'logloss'. Explicitly set eval_metric if you'd like to restore the old behavior.\n"
     ]
    },
    {
     "output_type": "execute_result",
     "data": {
      "text/plain": [
       "XGBClassifier(base_score=0.5, booster='gbtree', colsample_bylevel=1,\n",
       "              colsample_bynode=1, colsample_bytree=1, gamma=0, gpu_id=-1,\n",
       "              importance_type='gain', interaction_constraints='',\n",
       "              learning_rate=0.1, max_delta_step=0, max_depth=9,\n",
       "              min_child_weight=1, missing=nan, monotone_constraints='()',\n",
       "              n_estimators=100, n_jobs=8, num_parallel_tree=1, random_state=0,\n",
       "              reg_alpha=0, reg_lambda=1, scale_pos_weight=1, subsample=1,\n",
       "              tree_method='exact', validate_parameters=1, verbosity=None)"
      ]
     },
     "metadata": {},
     "execution_count": 38
    }
   ],
   "metadata": {}
  },
  {
   "cell_type": "code",
   "execution_count": 39,
   "source": [
    "score = metrics.roc_auc_score(y_test, xgb.predict(X_test))\r\n",
    "matrix= metrics.confusion_matrix(y_test,xgb.predict(X_test))\r\n",
    "print(score)\r\n",
    "print(matrix)"
   ],
   "outputs": [
    {
     "output_type": "stream",
     "name": "stdout",
     "text": [
      "0.6161173146760643\n",
      "[[35575  1912]\n",
      " [ 8356  3302]]\n"
     ]
    }
   ],
   "metadata": {}
  },
  {
   "cell_type": "code",
   "execution_count": 40,
   "source": [
    "xgb2 = XGBClassifier( max_depth = 9, learning_rate= 0.1, random_state=40)\r\n",
    "#the max-depth and learning rate is taken after some grid searches.\r\n",
    "xgb2.fit(x_sm_us, y_sm_us)"
   ],
   "outputs": [
    {
     "output_type": "stream",
     "name": "stdout",
     "text": [
      "[15:48:16] WARNING: C:/Users/Administrator/workspace/xgboost-win64_release_1.4.0/src/learner.cc:1095: Starting in XGBoost 1.3.0, the default evaluation metric used with the objective 'binary:logistic' was changed from 'error' to 'logloss'. Explicitly set eval_metric if you'd like to restore the old behavior.\n"
     ]
    },
    {
     "output_type": "execute_result",
     "data": {
      "text/plain": [
       "XGBClassifier(base_score=0.5, booster='gbtree', colsample_bylevel=1,\n",
       "              colsample_bynode=1, colsample_bytree=1, gamma=0, gpu_id=-1,\n",
       "              importance_type='gain', interaction_constraints='',\n",
       "              learning_rate=0.1, max_delta_step=0, max_depth=9,\n",
       "              min_child_weight=1, missing=nan, monotone_constraints='()',\n",
       "              n_estimators=100, n_jobs=8, num_parallel_tree=1, random_state=40,\n",
       "              reg_alpha=0, reg_lambda=1, scale_pos_weight=1, subsample=1,\n",
       "              tree_method='exact', validate_parameters=1, verbosity=None)"
      ]
     },
     "metadata": {},
     "execution_count": 40
    }
   ],
   "metadata": {}
  },
  {
   "cell_type": "code",
   "execution_count": 41,
   "source": [
    "score = metrics.roc_auc_score(y_train, xgb2.predict(X_train))\r\n",
    "matrix2= metrics.confusion_matrix(y_test,xgb2.predict(X_test))\r\n",
    "\r\n",
    "print(score)\r\n",
    "print(matrix2)"
   ],
   "outputs": [
    {
     "output_type": "stream",
     "name": "stdout",
     "text": [
      "0.6991702431084148\n",
      "[[32132  5355]\n",
      " [ 5397  6261]]\n"
     ]
    }
   ],
   "metadata": {}
  },
  {
   "cell_type": "markdown",
   "source": [
    "**there is a significant improvement in the roc-score and recall with the sampling.**"
   ],
   "metadata": {}
  },
  {
   "cell_type": "code",
   "execution_count": 42,
   "source": [
    "#random search cv\r\n",
    "\r\n",
    "params = {\r\n",
    "          \"learning_rate\": [0.05, 0.1,0.2, 0.3],\r\n",
    "          \"max_depth\": [3,6, 9, 12],\r\n",
    "          \"min_child_weight\": [1, 3, 5, 7, 9],\r\n",
    "          \"gamma\": [0.0, 0.1, 0.2, 0.3, 0.4],\r\n",
    "          \"colsample_bytree\": [0.3,0.4, 0.5, 0.6]\r\n",
    "}"
   ],
   "outputs": [],
   "metadata": {}
  },
  {
   "cell_type": "code",
   "execution_count": 43,
   "source": [
    "from sklearn.model_selection import RandomizedSearchCV\r\n",
    "\r\n",
    "clf = XGBClassifier()\r\n",
    "\r\n",
    "randomsearch = RandomizedSearchCV(clf, params, n_iter=5, cv= 4, scoring='roc_auc', n_jobs= -1)"
   ],
   "outputs": [],
   "metadata": {}
  },
  {
   "cell_type": "code",
   "execution_count": 44,
   "source": [
    "#randomsearch.fit(X,y)"
   ],
   "outputs": [],
   "metadata": {}
  },
  {
   "cell_type": "markdown",
   "source": [
    "# 2. Random Forest"
   ],
   "metadata": {}
  },
  {
   "cell_type": "code",
   "execution_count": 45,
   "source": [
    "model2 = RandomForestClassifier( n_estimators = 150, max_depth = 6, \r\n",
    "                                class_weight = \"balanced_subsample\", random_state=30, warm_start= True)\r\n",
    "\r\n",
    "model2.fit(X_train_new,y_train_new)"
   ],
   "outputs": [
    {
     "output_type": "execute_result",
     "data": {
      "text/plain": [
       "RandomForestClassifier(class_weight='balanced_subsample', max_depth=6,\n",
       "                       n_estimators=150, random_state=30, warm_start=True)"
      ]
     },
     "metadata": {},
     "execution_count": 45
    }
   ],
   "metadata": {}
  },
  {
   "cell_type": "code",
   "execution_count": 46,
   "source": [
    "score_train = metrics.roc_auc_score(y_train,model2.predict(X_train))\r\n",
    "score_test = metrics.roc_auc_score(y_test, model2.predict(X_test))\r\n",
    "\r\n",
    "matrix2= metrics.confusion_matrix(y_test,model2.predict(X_test))\r\n",
    "\r\n",
    "print(matrix2)\r\n",
    "\r\n",
    "print(score_train, score_test)\r\n"
   ],
   "outputs": [
    {
     "output_type": "stream",
     "name": "stdout",
     "text": [
      "[[21634 15853]\n",
      " [ 2147  9511]]\n",
      "0.6995577945525769 0.6964706751683065\n"
     ]
    }
   ],
   "metadata": {}
  },
  {
   "cell_type": "code",
   "execution_count": 47,
   "source": [
    "\r\n",
    "RF = RandomForestClassifier()\r\n",
    " \r\n",
    "Parameter_Trials={'n_estimators':[100,300,500],\r\n",
    "                  'max_depth': [3,6,9],\r\n",
    "                  'max_features': [\"auto\", \"sqrt\", \"log2\", None],\r\n",
    "                  'min_samples_split': [2, 5, 10],\r\n",
    "                  'min_samples_leaf': [1,2, 4,6, 8]} \r\n",
    " \r\n",
    "random_search_RF = RandomizedSearchCV(RF, Parameter_Trials,n_iter=5, cv= 4, scoring='roc_auc', n_jobs=-1, verbose=5)\r\n"
   ],
   "outputs": [],
   "metadata": {}
  },
  {
   "cell_type": "code",
   "execution_count": 48,
   "source": [
    "#random_search_RF.fit(X_train,y_train)"
   ],
   "outputs": [],
   "metadata": {}
  },
  {
   "cell_type": "code",
   "execution_count": 49,
   "source": [
    "new_params = {'n_estimators': 300,\r\n",
    " 'min_samples_split': 2,\r\n",
    " 'min_samples_leaf': 8,\r\n",
    " 'max_features': None,\r\n",
    " 'max_depth': 9}"
   ],
   "outputs": [],
   "metadata": {}
  },
  {
   "cell_type": "markdown",
   "source": [
    "# 3. SVM"
   ],
   "metadata": {}
  },
  {
   "cell_type": "code",
   "execution_count": 50,
   "source": [
    "\r\n",
    "kwargs = {'kernel': 'rbf'}\r\n",
    "\r\n",
    "ny_model = Nystroem(**kwargs)\r\n",
    "\r\n",
    "sgd  = SGDClassifier(penalty = 'elasticnet')\r\n",
    "#svc_guassian = SVC(kernel='rbf', gamma=5)\r\n",
    "\r\n",
    "#svc_guassian.fit(X_train,y_train) "
   ],
   "outputs": [],
   "metadata": {}
  },
  {
   "cell_type": "code",
   "execution_count": 51,
   "source": [
    "X_train_transf = ny_model.fit_transform(X_train)\r\n",
    "sgd.fit(X_train_transf, y_train)"
   ],
   "outputs": [
    {
     "output_type": "execute_result",
     "data": {
      "text/plain": [
       "SGDClassifier(penalty='elasticnet')"
      ]
     },
     "metadata": {},
     "execution_count": 51
    }
   ],
   "metadata": {}
  },
  {
   "cell_type": "code",
   "execution_count": 52,
   "source": [
    "X_train_transf.shape"
   ],
   "outputs": [
    {
     "output_type": "execute_result",
     "data": {
      "text/plain": [
       "(196580, 100)"
      ]
     },
     "metadata": {},
     "execution_count": 52
    }
   ],
   "metadata": {}
  },
  {
   "cell_type": "code",
   "execution_count": 53,
   "source": [
    "y_train"
   ],
   "outputs": [
    {
     "output_type": "execute_result",
     "data": {
      "text/plain": [
       "75880     0\n",
       "3536      0\n",
       "26300     1\n",
       "228409    1\n",
       "725       0\n",
       "         ..\n",
       "150898    0\n",
       "237369    0\n",
       "69566     1\n",
       "220533    0\n",
       "31356     0\n",
       "Name: Is_Lead, Length: 196580, dtype: int32"
      ]
     },
     "metadata": {},
     "execution_count": 53
    }
   ],
   "metadata": {
    "collapsed": true
   }
  },
  {
   "cell_type": "code",
   "execution_count": 54,
   "source": [
    "#ny_model2 = Nystroem(**kwargs)\r\n",
    "X_test_transf = ny_model.transform(X_test)\r\n",
    "score = metrics.roc_auc_score(y_test, sgd.predict(X_test_transf))\r\n",
    "print(score)"
   ],
   "outputs": [
    {
     "output_type": "stream",
     "name": "stdout",
     "text": [
      "0.5433226722119617\n"
     ]
    }
   ],
   "metadata": {}
  },
  {
   "cell_type": "code",
   "execution_count": 55,
   "source": [
    "metrics.confusion_matrix(y_test, sgd.predict(X_test_transf))"
   ],
   "outputs": [
    {
     "output_type": "execute_result",
     "data": {
      "text/plain": [
       "array([[37124,   363],\n",
       "       [10535,  1123]], dtype=int64)"
      ]
     },
     "metadata": {},
     "execution_count": 55
    }
   ],
   "metadata": {}
  },
  {
   "cell_type": "code",
   "execution_count": 56,
   "source": [
    "X_test_transf.shape"
   ],
   "outputs": [
    {
     "output_type": "execute_result",
     "data": {
      "text/plain": [
       "(49145, 100)"
      ]
     },
     "metadata": {},
     "execution_count": 56
    }
   ],
   "metadata": {}
  },
  {
   "cell_type": "code",
   "execution_count": 57,
   "source": [
    "#score = metrics.roc_auc_score(y_test, svc_guassian.predict(X_test))\r\n",
    "#print(score)"
   ],
   "outputs": [],
   "metadata": {}
  },
  {
   "cell_type": "code",
   "execution_count": 58,
   "source": [
    "from sklearn.ensemble import RandomForestClassifier\r\n",
    "\r\n",
    "rf_clf = RandomForestClassifier(random_state=1234)\r\n",
    "rf_clf.fit(X_train, y_train)"
   ],
   "outputs": [
    {
     "output_type": "execute_result",
     "data": {
      "text/plain": [
       "RandomForestClassifier(random_state=1234)"
      ]
     },
     "metadata": {},
     "execution_count": 58
    }
   ],
   "metadata": {}
  },
  {
   "cell_type": "code",
   "execution_count": 59,
   "source": [
    "rf_clf.feature_importances_"
   ],
   "outputs": [
    {
     "output_type": "execute_result",
     "data": {
      "text/plain": [
       "array([0.01295755, 0.21219986, 0.13499162, 0.21646609, 0.01607057,\n",
       "       0.31134713, 0.01650891, 0.01032878, 0.02266812, 0.00962769,\n",
       "       0.01814347, 0.01635454, 0.00233567])"
      ]
     },
     "metadata": {},
     "execution_count": 59
    }
   ],
   "metadata": {}
  },
  {
   "cell_type": "code",
   "execution_count": 60,
   "source": [
    "feature_names = list(X_train.columns)"
   ],
   "outputs": [],
   "metadata": {}
  },
  {
   "cell_type": "code",
   "execution_count": 61,
   "source": [
    "feature_names"
   ],
   "outputs": [
    {
     "output_type": "execute_result",
     "data": {
      "text/plain": [
       "['Gender',\n",
       " 'Age',\n",
       " 'Region_Code',\n",
       " 'Vintage',\n",
       " 'Credit_Product',\n",
       " 'Avg_Account_Balance',\n",
       " 'Is_Active',\n",
       " 'Occupation_Other',\n",
       " 'Occupation_Salaried',\n",
       " 'Occupation_Self_Employed',\n",
       " 'Channel_Code_X2',\n",
       " 'Channel_Code_X3',\n",
       " 'Channel_Code_X4']"
      ]
     },
     "metadata": {},
     "execution_count": 61
    }
   ],
   "metadata": {}
  },
  {
   "cell_type": "code",
   "execution_count": 62,
   "source": [
    "\r\n",
    "features_to_plot = 10\r\n",
    "\r\n",
    "importances = rf_clf.feature_importances_\r\n",
    "indices = np.argsort(importances)\r\n",
    "\r\n",
    "best_vars = np.array(feature_names)[indices][-features_to_plot:]\r\n",
    "values = importances[indices][-features_to_plot:]\r\n",
    "best_vars"
   ],
   "outputs": [
    {
     "output_type": "execute_result",
     "data": {
      "text/plain": [
       "array(['Gender', 'Credit_Product', 'Channel_Code_X3', 'Is_Active',\n",
       "       'Channel_Code_X2', 'Occupation_Salaried', 'Region_Code', 'Age',\n",
       "       'Vintage', 'Avg_Account_Balance'], dtype='<U24')"
      ]
     },
     "metadata": {},
     "execution_count": 62
    }
   ],
   "metadata": {}
  },
  {
   "cell_type": "code",
   "execution_count": 67,
   "source": [
    "import matplotlib.pyplot as plt\r\n",
    "%matplotlib inline\r\n",
    "\r\n",
    "y_ticks = np.arange(0, features_to_plot)\r\n",
    "fig, ax = plt.subplots()\r\n",
    "ax.barh(y_ticks, values)\r\n",
    "ax.set_yticklabels(best_vars)\r\n",
    "ax.set_yticks(y_ticks)\r\n",
    "ax.set_title(\"Random Forest Feature Importances\")\r\n",
    "fig.tight_layout()\r\n",
    "plt.show()"
   ],
   "outputs": [
    {
     "output_type": "display_data",
     "data": {
      "text/plain": [
       "<Figure size 432x288 with 1 Axes>"
      ],
      "image/png": "[encoded data removed]"
     },
     "metadata": {
      "needs_background": "light"
     }
    }
   ],
   "metadata": {}
  },
  {
   "cell_type": "code",
   "execution_count": 68,
   "source": [
    "imp_features = ['Avg_Account_Balance', 'Vintage', 'Age', 'Region_Code']\n",
    "\n",
    "X_train_new = X_train[imp_features]\n",
    "\n",
    "X_test_new = X_test[imp_features]\n"
   ],
   "outputs": [],
   "metadata": {}
  },
  {
   "cell_type": "code",
   "execution_count": 69,
   "source": [
    "xgb_new = XGBClassifier(min_child_weight= 3,\n",
    "                        max_depth = 12,\n",
    "                        learning_rate= 0.2,\n",
    "                        gamma= 0.0,\n",
    "                        colsample_bytree= 0.6)\n",
    "\n",
    "\n",
    "xgb_new.fit(X_train_new,y_train)"
   ],
   "outputs": [
    {
     "output_type": "stream",
     "name": "stdout",
     "text": [
      "[15:52:36] WARNING: C:/Users/Administrator/workspace/xgboost-win64_release_1.4.0/src/learner.cc:1095: Starting in XGBoost 1.3.0, the default evaluation metric used with the objective 'binary:logistic' was changed from 'error' to 'logloss'. Explicitly set eval_metric if you'd like to restore the old behavior.\n"
     ]
    },
    {
     "output_type": "execute_result",
     "data": {
      "text/plain": [
       "XGBClassifier(base_score=0.5, booster='gbtree', colsample_bylevel=1,\n",
       "              colsample_bynode=1, colsample_bytree=0.6, gamma=0.0, gpu_id=-1,\n",
       "              importance_type='gain', interaction_constraints='',\n",
       "              learning_rate=0.2, max_delta_step=0, max_depth=12,\n",
       "              min_child_weight=3, missing=nan, monotone_constraints='()',\n",
       "              n_estimators=100, n_jobs=8, num_parallel_tree=1, random_state=0,\n",
       "              reg_alpha=0, reg_lambda=1, scale_pos_weight=1, subsample=1,\n",
       "              tree_method='exact', validate_parameters=1, verbosity=None)"
      ]
     },
     "metadata": {},
     "execution_count": 69
    }
   ],
   "metadata": {
    "collapsed": true
   }
  },
  {
   "cell_type": "code",
   "execution_count": 70,
   "source": [
    "#score_train = metrics.roc_auc_score(y_train,new_clf.predict(X_train))\n",
    "score_test = metrics.roc_auc_score(y_test, xgb_new.predict(X_test_new))\n",
    "\n",
    "#matrix2= metrics.confusion_matrix(y_test,xgb_new.predict(X_test))\n",
    "\n",
    "#print(matrix2)\n",
    "\n",
    "\n",
    "print(score_test)"
   ],
   "outputs": [
    {
     "output_type": "stream",
     "name": "stdout",
     "text": [
      "0.5684022843021563\n"
     ]
    }
   ],
   "metadata": {}
  },
  {
   "cell_type": "markdown",
   "source": [
    "***Note that by just keeping only few important features and predicting over it will overfit mostly and give less test scores***"
   ],
   "metadata": {}
  },
  {
   "cell_type": "markdown",
   "source": [
    "\n",
    "**The best scores are achieved only through XGboost of \"0.85\" with the help of random search and smote. Further analysis would be better to go with XGB.**"
   ],
   "metadata": {}
  },
  {
   "cell_type": "code",
   "execution_count": 71,
   "source": [
    "train['id'] = np.arange(train.shape[0])"
   ],
   "outputs": [],
   "metadata": {}
  },
  {
   "cell_type": "code",
   "execution_count": 72,
   "source": [
    "train.head()"
   ],
   "outputs": [
    {
     "output_type": "execute_result",
     "data": {
      "text/plain": [
       "   Gender       Age  Region_Code   Vintage  Credit_Product  \\\n",
       "0       0  0.806452     0.529412  0.276923               0   \n",
       "1       0  0.112903     0.794118  0.200000               0   \n",
       "2       0  0.532258     0.529412  0.153846               0   \n",
       "3       1  0.177419     0.588235  0.092308               0   \n",
       "4       0  0.112903     0.941176  0.215385               0   \n",
       "\n",
       "   Avg_Account_Balance  Is_Active  Is_Lead  Occupation_Other  \\\n",
       "0             0.630865          0        0                 1   \n",
       "1             0.536510          0        0                 0   \n",
       "2             0.687265          1        0                 0   \n",
       "3             0.502253          0        0                 0   \n",
       "4             0.604324          0        0                 0   \n",
       "\n",
       "   Occupation_Salaried  Occupation_Self_Employed  Channel_Code_X2  \\\n",
       "0                    0                         0                0   \n",
       "1                    1                         0                0   \n",
       "2                    0                         1                0   \n",
       "3                    1                         0                0   \n",
       "4                    1                         0                0   \n",
       "\n",
       "   Channel_Code_X3  Channel_Code_X4  id  \n",
       "0                1                0   0  \n",
       "1                0                0   1  \n",
       "2                1                0   2  \n",
       "3                0                0   3  \n",
       "4                0                0   4  "
      ],
      "text/html": [
       "<div>\n",
       "<style scoped>\n",
       "    .dataframe tbody tr th:only-of-type {\n",
       "        vertical-align: middle;\n",
       "    }\n",
       "\n",
       "    .dataframe tbody tr th {\n",
       "        vertical-align: top;\n",
       "    }\n",
       "\n",
       "    .dataframe thead th {\n",
       "        text-align: right;\n",
       "    }\n",
       "</style>\n",
       "<table border=\"1\" class=\"dataframe\">\n",
       "  <thead>\n",
       "    <tr style=\"text-align: right;\">\n",
       "      <th></th>\n",
       "      <th>Gender</th>\n",
       "      <th>Age</th>\n",
       "      <th>Region_Code</th>\n",
       "      <th>Vintage</th>\n",
       "      <th>Credit_Product</th>\n",
       "      <th>Avg_Account_Balance</th>\n",
       "      <th>Is_Active</th>\n",
       "      <th>Is_Lead</th>\n",
       "      <th>Occupation_Other</th>\n",
       "      <th>Occupation_Salaried</th>\n",
       "      <th>Occupation_Self_Employed</th>\n",
       "      <th>Channel_Code_X2</th>\n",
       "      <th>Channel_Code_X3</th>\n",
       "      <th>Channel_Code_X4</th>\n",
       "      <th>id</th>\n",
       "    </tr>\n",
       "  </thead>\n",
       "  <tbody>\n",
       "    <tr>\n",
       "      <th>0</th>\n",
       "      <td>0</td>\n",
       "      <td>0.806452</td>\n",
       "      <td>0.529412</td>\n",
       "      <td>0.276923</td>\n",
       "      <td>0</td>\n",
       "      <td>0.630865</td>\n",
       "      <td>0</td>\n",
       "      <td>0</td>\n",
       "      <td>1</td>\n",
       "      <td>0</td>\n",
       "      <td>0</td>\n",
       "      <td>0</td>\n",
       "      <td>1</td>\n",
       "      <td>0</td>\n",
       "      <td>0</td>\n",
       "    </tr>\n",
       "    <tr>\n",
       "      <th>1</th>\n",
       "      <td>0</td>\n",
       "      <td>0.112903</td>\n",
       "      <td>0.794118</td>\n",
       "      <td>0.200000</td>\n",
       "      <td>0</td>\n",
       "      <td>0.536510</td>\n",
       "      <td>0</td>\n",
       "      <td>0</td>\n",
       "      <td>0</td>\n",
       "      <td>1</td>\n",
       "      <td>0</td>\n",
       "      <td>0</td>\n",
       "      <td>0</td>\n",
       "      <td>0</td>\n",
       "      <td>1</td>\n",
       "    </tr>\n",
       "    <tr>\n",
       "      <th>2</th>\n",
       "      <td>0</td>\n",
       "      <td>0.532258</td>\n",
       "      <td>0.529412</td>\n",
       "      <td>0.153846</td>\n",
       "      <td>0</td>\n",
       "      <td>0.687265</td>\n",
       "      <td>1</td>\n",
       "      <td>0</td>\n",
       "      <td>0</td>\n",
       "      <td>0</td>\n",
       "      <td>1</td>\n",
       "      <td>0</td>\n",
       "      <td>1</td>\n",
       "      <td>0</td>\n",
       "      <td>2</td>\n",
       "    </tr>\n",
       "    <tr>\n",
       "      <th>3</th>\n",
       "      <td>1</td>\n",
       "      <td>0.177419</td>\n",
       "      <td>0.588235</td>\n",
       "      <td>0.092308</td>\n",
       "      <td>0</td>\n",
       "      <td>0.502253</td>\n",
       "      <td>0</td>\n",
       "      <td>0</td>\n",
       "      <td>0</td>\n",
       "      <td>1</td>\n",
       "      <td>0</td>\n",
       "      <td>0</td>\n",
       "      <td>0</td>\n",
       "      <td>0</td>\n",
       "      <td>3</td>\n",
       "    </tr>\n",
       "    <tr>\n",
       "      <th>4</th>\n",
       "      <td>0</td>\n",
       "      <td>0.112903</td>\n",
       "      <td>0.941176</td>\n",
       "      <td>0.215385</td>\n",
       "      <td>0</td>\n",
       "      <td>0.604324</td>\n",
       "      <td>0</td>\n",
       "      <td>0</td>\n",
       "      <td>0</td>\n",
       "      <td>1</td>\n",
       "      <td>0</td>\n",
       "      <td>0</td>\n",
       "      <td>0</td>\n",
       "      <td>0</td>\n",
       "      <td>4</td>\n",
       "    </tr>\n",
       "  </tbody>\n",
       "</table>\n",
       "</div>"
      ]
     },
     "metadata": {},
     "execution_count": 72
    }
   ],
   "metadata": {}
  },
  {
   "cell_type": "code",
   "execution_count": 82,
   "source": [
    "import featuretools as ft\r\n",
    "\r\n",
    "es = ft.EntitySet(id = 'predict')\r\n",
    "\r\n",
    "es.entity_from_dataframe(entity_id = 'x', dataframe = train, index = 'id')\r\n",
    "\r\n",
    "es.normalize_entity(base_entity_id = 'x', new_entity_id = 'y', index = 'Is_Lead', additional_variables = ['Avg_Account_Balance', 'Vintage', 'Age', 'Region_Code'])"
   ],
   "outputs": [
    {
     "output_type": "execute_result",
     "data": {
      "text/plain": [
       "Entityset: predict\n",
       "  Entities:\n",
       "    x [Rows: 245725, Columns: 11]\n",
       "    y [Rows: 2, Columns: 5]\n",
       "  Relationships:\n",
       "    x.Is_Lead -> y.Is_Lead"
      ]
     },
     "metadata": {},
     "execution_count": 82
    }
   ],
   "metadata": {}
  },
  {
   "cell_type": "code",
   "execution_count": 1,
   "source": [
    "\r\n",
    "#feature_matrix, feature_names = ft.dfs(entityset=es, \r\n",
    "#target_entity = 'x', max_depth = 1, \r\n",
    "#verbose = 1, n_jobs = 3)"
   ],
   "outputs": [],
   "metadata": {
    "scrolled": true,
    "tags": [
     "outputPrepend"
    ]
   }
  },
  {
   "cell_type": "code",
   "execution_count": null,
   "source": [
    "#es.plot()"
   ],
   "outputs": [],
   "metadata": {
    "collapsed": true
   }
  },
  {
   "cell_type": "code",
   "execution_count": null,
   "source": [
    "#feature_matrix.columns\r\n",
    "#y, X = feature_matrix['Is_Lead'], feature_matrix.drop('Is_Lead', axis=1)"
   ],
   "outputs": [
    {
     "output_type": "error",
     "ename": "NameError",
     "evalue": "name 'feature_matrix' is not defined",
     "traceback": [
      "\u001b[1;31m---------------------------------------------------------------------------\u001b[0m",
      "\u001b[1;31mNameError\u001b[0m                                 Traceback (most recent call last)",
      "\u001b[1;32m<ipython-input-69-3873508fc1ff>\u001b[0m in \u001b[0;36m<module>\u001b[1;34m\u001b[0m\n\u001b[1;32m----> 1\u001b[1;33m \u001b[0mfeature_matrix\u001b[0m\u001b[1;33m.\u001b[0m\u001b[0mcolumns\u001b[0m\u001b[1;33m\u001b[0m\u001b[1;33m\u001b[0m\u001b[0m\n\u001b[0m",
      "\u001b[1;31mNameError\u001b[0m: name 'feature_matrix' is not defined"
     ]
    }
   ],
   "metadata": {}
  },
  {
   "cell_type": "code",
   "execution_count": null,
   "source": [
    "X_train, X_test, y_train, y_test = train_test_split(X,y, test_size= 0.2, random_state=143)"
   ],
   "outputs": [],
   "metadata": {}
  },
  {
   "cell_type": "code",
   "execution_count": null,
   "source": [
    "xgb = XGBClassifier(max_depth = 9, learning_rate = 0.1)\r\n",
    "\r\n",
    "xgb.fit(X_train, y_train)"
   ],
   "outputs": [],
   "metadata": {}
  },
  {
   "cell_type": "code",
   "execution_count": null,
   "source": [
    "score = metrics.roc_auc_score(y_test, xgb.predict(X_test))\r\n",
    "matrix= metrics.confusion_matrix(y_test,xgb.predict(X_test))\r\n",
    "print(score)\r\n",
    "print(matrix)"
   ],
   "outputs": [],
   "metadata": {}
  },
  {
   "cell_type": "code",
   "execution_count": null,
   "source": [
    "print(metrics.classification_report(y_test, xgb.predict(X_test)))"
   ],
   "outputs": [],
   "metadata": {}
  },
  {
   "cell_type": "code",
   "execution_count": null,
   "source": [
    "y_pred = xgb.predict(X_test)"
   ],
   "outputs": [],
   "metadata": {}
  },
  {
   "cell_type": "markdown",
   "source": [
    "# Conclusion:\r\n",
    " The Highest ROC score achieved is by XGB using Smote_random_sampler i.e., 0.856"
   ],
   "metadata": {}
  },
  {
   "cell_type": "markdown",
   "source": [
    "# Insights"
   ],
   "metadata": {}
  },
  {
   "cell_type": "markdown",
   "source": [
    "- With the increase in the complexity of the model, the model tried to overfit the data. The case seen in Sgd and SVC.\n",
    "- Randomized search provided almost similar hyperparameters with less time compared to Grid search.\n",
    "- The Random forest performed the least among the three."
   ],
   "metadata": {}
  },
  {
   "cell_type": "markdown",
   "source": [
    "# Further Study"
   ],
   "metadata": {}
  },
  {
   "cell_type": "markdown",
   "source": [
    "- Need to tune the model by selecting only the most important features and then doing the same process as above.\n",
    "- Also doing some Stacking models can improve the score further.\n",
    "- using neural networks to find best parameters can also improve the performance."
   ],
   "metadata": {}
  }
 ],
 "metadata": {
  "interpreter": {
   "hash": "c469c999aae2bf6d578d6881606ced546d1546d312a4811937df5b24665ee8bc"
  },
  "kernelspec": {
   "display_name": "Python 3.8.8 64-bit ('base': conda)",
   "name": "python3"
  },
  "language_info": {
   "codemirror_mode": {
    "name": "ipython",
    "version": 3
   },
   "file_extension": ".py",
   "mimetype": "text/x-python",
   "name": "python",
   "nbconvert_exporter": "python",
   "pygments_lexer": "ipython3",
   "version": "3.8.8"
  },
  "metadata": {
   "interpreter": {
    "hash": "25bf1dab56f13e21d80318cd5e789e076f92a14fa9924f370a2a818164c863f4"
   }
  }
 },
 "nbformat": 4,
 "nbformat_minor": 5
}